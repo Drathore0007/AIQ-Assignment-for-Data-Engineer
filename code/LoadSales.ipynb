{
 "cells": [
  {
   "cell_type": "markdown",
   "metadata": {},
   "source": [
    "## This note book is main nate book with will load the Sales data into the postgresql db"
   ]
  },
  {
   "cell_type": "code",
   "execution_count": 14,
   "metadata": {},
   "outputs": [],
   "source": [
    "import pandas as pd\n",
    "from datetime import datetime\n",
    "from pprint import pprint\n",
    "from AIQSales.Gettoken import AIQ_GetAuth \n",
    "from AIQSales.GetData import AIQ_GetData\n",
    "from AIQSales.LoadToDB import To_postgres\n",
    "\n",
    "# Get APi access Token\n",
    "token =  AIQ_GetAuth()\n",
    "access_token=  token.access_token\n",
    "\n",
    "# create and object to get data\n",
    "Data =  AIQ_GetData(access_token)"
   ]
  },
  {
   "cell_type": "code",
   "execution_count": 15,
   "metadata": {},
   "outputs": [],
   "source": [
    "# Load Sales_df \n",
    "Saleslocation=  '../DataFiles/AIQSalesData.csv'\n",
    "Sales_df =  Data.get_sales(Saleslocation)"
   ]
  },
  {
   "cell_type": "code",
   "execution_count": 16,
   "metadata": {},
   "outputs": [],
   "source": [
    "# Load Customer_df \n",
    "Customerlocation=  'https://jsonplaceholder.typicode.com/users'\n",
    "Customer_df =  Data.get_Customers(Customerlocation)"
   ]
  },
  {
   "cell_type": "code",
   "execution_count": 17,
   "metadata": {},
   "outputs": [],
   "source": [
    "location_df =  Customer_df[['id', 'lat', 'lng']]\n",
    "locationlist = list(location_df.values)"
   ]
  },
  {
   "cell_type": "code",
   "execution_count": 19,
   "metadata": {},
   "outputs": [
    {
     "name": "stdout",
     "output_type": "stream",
     "text": [
      "[1 '-37.3159' '81.1496']\n",
      "[2 '-43.9509' '-34.4618']\n",
      "[3 '-68.6102' '-47.0653']\n",
      "[4 '29.4572' '-164.2990']\n",
      "[5 '-31.8129' '62.5342']\n",
      "[6 '-71.4197' '71.7478']\n",
      "[7 '24.8918' '21.8984']\n",
      "[8 '-14.3990' '-120.7677']\n",
      "[9 '24.6463' '-168.8889']\n",
      "[10 '-38.2386' '57.2232']\n"
     ]
    }
   ],
   "source": [
    "# call weather data funcation to extract the weather information bases on latitude and longitute \n",
    "Weather_df = Data.get_WeatherData(locationlist)"
   ]
  },
  {
   "cell_type": "code",
   "execution_count": 20,
   "metadata": {},
   "outputs": [
    {
     "data": {
      "text/html": [
       "<div>\n",
       "<style scoped>\n",
       "    .dataframe tbody tr th:only-of-type {\n",
       "        vertical-align: middle;\n",
       "    }\n",
       "\n",
       "    .dataframe tbody tr th {\n",
       "        vertical-align: top;\n",
       "    }\n",
       "\n",
       "    .dataframe thead th {\n",
       "        text-align: right;\n",
       "    }\n",
       "</style>\n",
       "<table border=\"1\" class=\"dataframe\">\n",
       "  <thead>\n",
       "    <tr style=\"text-align: right;\">\n",
       "      <th></th>\n",
       "      <th>id</th>\n",
       "      <th>lat</th>\n",
       "      <th>lng</th>\n",
       "      <th>weather</th>\n",
       "      <th>description</th>\n",
       "      <th>temp</th>\n",
       "      <th>pressure</th>\n",
       "      <th>humidity</th>\n",
       "      <th>grnd_level</th>\n",
       "      <th>sea_level</th>\n",
       "      <th>visibility</th>\n",
       "      <th>wind_speed</th>\n",
       "      <th>wind_deg</th>\n",
       "      <th>wind_gust</th>\n",
       "      <th>inserted_date</th>\n",
       "      <th>inserted_by</th>\n",
       "      <th>updated_date</th>\n",
       "      <th>updated_by</th>\n",
       "    </tr>\n",
       "  </thead>\n",
       "  <tbody>\n",
       "    <tr>\n",
       "      <th>0</th>\n",
       "      <td>1</td>\n",
       "      <td>-37.3159</td>\n",
       "      <td>81.1496</td>\n",
       "      <td>Rain</td>\n",
       "      <td>light rain</td>\n",
       "      <td>293.08</td>\n",
       "      <td>1021</td>\n",
       "      <td>81</td>\n",
       "      <td>1021</td>\n",
       "      <td>1021</td>\n",
       "      <td></td>\n",
       "      <td>4.19</td>\n",
       "      <td>303</td>\n",
       "      <td>5.47</td>\n",
       "      <td>2024-03-23 18:27:06.611857</td>\n",
       "      <td>Dharm</td>\n",
       "      <td>2024-03-23 18:27:06.611857</td>\n",
       "      <td>dharm</td>\n",
       "    </tr>\n",
       "  </tbody>\n",
       "</table>\n",
       "</div>"
      ],
      "text/plain": [
       "   id      lat      lng weather description    temp  pressure  humidity  \\\n",
       "0   1 -37.3159  81.1496    Rain  light rain  293.08      1021        81   \n",
       "\n",
       "   grnd_level  sea_level visibility  wind_speed  wind_deg  wind_gust  \\\n",
       "0        1021       1021                   4.19       303       5.47   \n",
       "\n",
       "               inserted_date inserted_by               updated_date updated_by  \n",
       "0 2024-03-23 18:27:06.611857       Dharm 2024-03-23 18:27:06.611857      dharm  "
      ]
     },
     "execution_count": 20,
     "metadata": {},
     "output_type": "execute_result"
    }
   ],
   "source": [
    "Weather_df.head(1)"
   ]
  },
  {
   "cell_type": "code",
   "execution_count": 21,
   "metadata": {},
   "outputs": [],
   "source": [
    "# convert the datatype to make join\n",
    "Weather_df = Weather_df.astype({'id': str })\n",
    "Sales_df = Sales_df.astype({'customer_id': str })"
   ]
  },
  {
   "cell_type": "code",
   "execution_count": 22,
   "metadata": {
    "scrolled": true
   },
   "outputs": [],
   "source": [
    "# merge weather and Sales df\n",
    "SalesData_full =  pd.merge(Sales_df, Weather_df, left_on=['customer_id'], right_on= ['id'], how='inner')"
   ]
  },
  {
   "cell_type": "code",
   "execution_count": 23,
   "metadata": {},
   "outputs": [
    {
     "data": {
      "text/html": [
       "<div>\n",
       "<style scoped>\n",
       "    .dataframe tbody tr th:only-of-type {\n",
       "        vertical-align: middle;\n",
       "    }\n",
       "\n",
       "    .dataframe tbody tr th {\n",
       "        vertical-align: top;\n",
       "    }\n",
       "\n",
       "    .dataframe thead th {\n",
       "        text-align: right;\n",
       "    }\n",
       "</style>\n",
       "<table border=\"1\" class=\"dataframe\">\n",
       "  <thead>\n",
       "    <tr style=\"text-align: right;\">\n",
       "      <th></th>\n",
       "      <th>order_id</th>\n",
       "      <th>customer_id</th>\n",
       "      <th>product_id</th>\n",
       "      <th>quantity</th>\n",
       "      <th>price</th>\n",
       "      <th>order_date</th>\n",
       "      <th>id</th>\n",
       "      <th>lat</th>\n",
       "      <th>lng</th>\n",
       "      <th>weather</th>\n",
       "      <th>...</th>\n",
       "      <th>grnd_level</th>\n",
       "      <th>sea_level</th>\n",
       "      <th>visibility</th>\n",
       "      <th>wind_speed</th>\n",
       "      <th>wind_deg</th>\n",
       "      <th>wind_gust</th>\n",
       "      <th>inserted_date</th>\n",
       "      <th>inserted_by</th>\n",
       "      <th>updated_date</th>\n",
       "      <th>updated_by</th>\n",
       "    </tr>\n",
       "  </thead>\n",
       "  <tbody>\n",
       "    <tr>\n",
       "      <th>0</th>\n",
       "      <td>2334</td>\n",
       "      <td>5</td>\n",
       "      <td>40</td>\n",
       "      <td>3</td>\n",
       "      <td>35.6</td>\n",
       "      <td>2022-06-21</td>\n",
       "      <td>5</td>\n",
       "      <td>-31.8129</td>\n",
       "      <td>62.5342</td>\n",
       "      <td>Rain</td>\n",
       "      <td>...</td>\n",
       "      <td>1026</td>\n",
       "      <td>1026</td>\n",
       "      <td></td>\n",
       "      <td>12.91</td>\n",
       "      <td>142</td>\n",
       "      <td>13.39</td>\n",
       "      <td>2024-03-23 18:27:11.663738</td>\n",
       "      <td>Dharm</td>\n",
       "      <td>2024-03-23 18:27:11.663738</td>\n",
       "      <td>dharm</td>\n",
       "    </tr>\n",
       "  </tbody>\n",
       "</table>\n",
       "<p>1 rows × 24 columns</p>\n",
       "</div>"
      ],
      "text/plain": [
       "   order_id customer_id  product_id  quantity  price  order_date id      lat  \\\n",
       "0      2334           5          40         3   35.6  2022-06-21  5 -31.8129   \n",
       "\n",
       "       lng weather  ... grnd_level  sea_level  visibility  wind_speed  \\\n",
       "0  62.5342    Rain  ...       1026       1026                   12.91   \n",
       "\n",
       "   wind_deg  wind_gust              inserted_date  inserted_by  \\\n",
       "0       142      13.39 2024-03-23 18:27:11.663738        Dharm   \n",
       "\n",
       "                updated_date  updated_by  \n",
       "0 2024-03-23 18:27:11.663738       dharm  \n",
       "\n",
       "[1 rows x 24 columns]"
      ]
     },
     "execution_count": 23,
     "metadata": {},
     "output_type": "execute_result"
    }
   ],
   "source": [
    "# verify sample Data\n",
    "SalesData_full.head(1)\n"
   ]
  },
  {
   "cell_type": "code",
   "execution_count": 24,
   "metadata": {},
   "outputs": [
    {
     "name": "stdout",
     "output_type": "stream",
     "text": [
      "Connecting to the PostgreSQL database...\n",
      "Connection successful\n",
      "Data laod to Stagging table is done\n",
      "INSERT INTO sales(order_id,customer_id,product_id,quantity,price,order_date,id,lat,lng,weather,description,temp,pressure,humidity,grnd_level,sea_level,visibility,wind_speed,wind_deg,wind_gust,inserted_date,inserted_by,updated_date,updated_by) SELECT * FROM sales_stg \n"
     ]
    },
    {
     "data": {
      "text/plain": [
       "'data writting have been completed with delete & insert Method'"
      ]
     },
     "execution_count": 24,
     "metadata": {},
     "output_type": "execute_result"
    }
   ],
   "source": [
    "# load final SalesData_full dataframe into postgresql DB\n",
    "pg_local= {\n",
    "    \"host\"      : \"localhost\",\n",
    "    \"database\"  : \"AIQ\",\n",
    "    \"user\"      : \"postgres\",\n",
    "    \"password\"  : \"root\"\n",
    "}\n",
    "\n",
    "#create a connection to Databases\n",
    "conn = To_postgres(pg_local)\n",
    "\n",
    "stgTable='sales_stg'\n",
    "Table='sales'\n",
    "keycol= 'order_id'\n",
    "\n",
    "#trigger upsert method\n",
    "#conn.UpsertData(SalesData_full, stgTable, Table, keycol)\n",
    "\n",
    "#trigger Delete-insert method\n",
    "#conn.deleteInsert(SalesData_full, stgTable, Table, keycol)\n",
    "\n",
    "conn.deleteInsert(SalesData_full, stgTable, Table, keycol)"
   ]
  },
  {
   "cell_type": "code",
   "execution_count": null,
   "metadata": {},
   "outputs": [],
   "source": []
  }
 ],
 "metadata": {
  "kernelspec": {
   "display_name": "Python 3 (ipykernel)",
   "language": "python",
   "name": "python3"
  },
  "language_info": {
   "codemirror_mode": {
    "name": "ipython",
    "version": 3
   },
   "file_extension": ".py",
   "mimetype": "text/x-python",
   "name": "python",
   "nbconvert_exporter": "python",
   "pygments_lexer": "ipython3",
   "version": "3.11.5"
  }
 },
 "nbformat": 4,
 "nbformat_minor": 2
}
